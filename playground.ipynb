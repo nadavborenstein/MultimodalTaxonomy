{
 "cells": [
  {
   "cell_type": "code",
   "execution_count": 13,
   "metadata": {},
   "outputs": [],
   "source": [
    "from atproto import Client"
   ]
  },
  {
   "cell_type": "code",
   "execution_count": 14,
   "metadata": {},
   "outputs": [],
   "source": [
    "client = Client()\n",
    "client.login('misinbot.bsky.social', 'Nadav123')\n",
    "post = client.send_post('Hello world! I posted this via the Python SDK.')"
   ]
  },
  {
   "cell_type": "code",
   "execution_count": 4,
   "metadata": {},
   "outputs": [
    {
     "data": {
      "text/plain": [
       "CreateRecordResponse(uri='at://did:plc:l35x5fspagvsiud3czeuqfwb/app.bsky.feed.post/3lw7ie2xqoa2r', cid='bafyreihtdotpjuusibkatxj73gia767rkejaqdayd33jtmotyalew3iwnq')"
      ]
     },
     "execution_count": 4,
     "metadata": {},
     "output_type": "execute_result"
    }
   ],
   "source": [
    "client.send_post('สวัสดีชาวโลก!\\nHello World!', langs=['th', 'en-US'])"
   ]
  },
  {
   "cell_type": "code",
   "execution_count": 5,
   "metadata": {},
   "outputs": [
    {
     "data": {
      "text/plain": [
       "CreateRecordResponse(uri='at://did:plc:l35x5fspagvsiud3czeuqfwb/app.bsky.feed.post/3lw7iiejvo72l', cid='bafyreiaxokwc2vi3yw5mpiudpf5lcnj6qttfjgkkvn3swasjocdbk4buda')"
      ]
     },
     "execution_count": 5,
     "metadata": {},
     "output_type": "execute_result"
    }
   ],
   "source": [
    "from atproto import client_utils\n",
    "\n",
    "tb = client_utils.TextBuilder()\n",
    "tb.text('✨ example mentioning ')\n",
    "tb.mention('atproto.com', 'did:plc:ewvi7nxzyoun6zhxrhs64oiz')\n",
    "tb.text(' to share the URL ')\n",
    "tb.link('CBOR', 'https://en.wikipedia.org/wiki/CBOR')\n",
    "tb.text('.')\n",
    "\n",
    "client.send_post(tb)"
   ]
  },
  {
   "cell_type": "code",
   "execution_count": 15,
   "metadata": {},
   "outputs": [],
   "source": [
    "data = client.get_author_feed(\n",
    "    actor='gretawarren.bsky.social',\n",
    "    filter='posts_with_media',\n",
    "    limit=30,\n",
    ")\n",
    "\n",
    "feed = data.feed\n",
    "next_page = data.cursor"
   ]
  },
  {
   "cell_type": "code",
   "execution_count": 16,
   "metadata": {},
   "outputs": [
    {
     "name": "stdout",
     "output_type": "stream",
     "text": [
      "{'feed_context': None,\n",
      " 'post': {'author': {'associated': {'activitySubscription': {'allowSubscriptions': 'followers'},\n",
      "                                    'chat': None,\n",
      "                                    'feedgens': None,\n",
      "                                    'labeler': None,\n",
      "                                    'lists': None,\n",
      "                                    'py_type': 'app.bsky.actor.defs#profileAssociated',\n",
      "                                    'starter_packs': None},\n",
      "                     'avatar': 'https://cdn.bsky.app/img/avatar/plain/did:plc:qx6n5pvmijprrz3pcmxyvhuk/bafkreihthclgbstjo52m6okj55dxfltwpviyld7gxn4plvpqbozsfo6snq@jpeg',\n",
      "                     'created_at': '2024-11-18T17:05:39.348Z',\n",
      "                     'did': 'did:plc:qx6n5pvmijprrz3pcmxyvhuk',\n",
      "                     'display_name': 'Greta Warren',\n",
      "                     'handle': 'gretawarren.bsky.social',\n",
      "                     'labels': [],\n",
      "                     'py_type': 'app.bsky.actor.defs#profileViewBasic',\n",
      "                     'verification': None,\n",
      "                     'viewer': {'blocked_by': False,\n",
      "                                'blocking': None,\n",
      "                                'blocking_by_list': None,\n",
      "                                'followed_by': None,\n",
      "                                'following': None,\n",
      "                                'known_followers': None,\n",
      "                                'muted': False,\n",
      "                                'muted_by_list': None,\n",
      "                                'py_type': 'app.bsky.actor.defs#viewerState'}},\n",
      "          'cid': 'bafyreieamowet3hwzf2xri5jsekg2hl3pjywi3k4xdczjvtzccwmfozaru',\n",
      "          'embed': {'images': [{'alt': '',\n",
      "                                'aspect_ratio': {'height': 2000,\n",
      "                                                 'py_type': 'app.bsky.embed.defs#aspectRatio',\n",
      "                                                 'width': 1500},\n",
      "                                'fullsize': 'https://cdn.bsky.app/img/feed_fullsize/plain/did:plc:qx6n5pvmijprrz3pcmxyvhuk/bafkreidsr2hpgtcbjfqaq3ygnqfitqlrbnz2n2d6tnr57s2vgk3ltokcme@jpeg',\n",
      "                                'py_type': 'app.bsky.embed.images#viewImage',\n",
      "                                'thumb': 'https://cdn.bsky.app/img/feed_thumbnail/plain/did:plc:qx6n5pvmijprrz3pcmxyvhuk/bafkreidsr2hpgtcbjfqaq3ygnqfitqlrbnz2n2d6tnr57s2vgk3ltokcme@jpeg'},\n",
      "                               {'alt': '',\n",
      "                                'aspect_ratio': {'height': 2000,\n",
      "                                                 'py_type': 'app.bsky.embed.defs#aspectRatio',\n",
      "                                                 'width': 1500},\n",
      "                                'fullsize': 'https://cdn.bsky.app/img/feed_fullsize/plain/did:plc:qx6n5pvmijprrz3pcmxyvhuk/bafkreiageaafh6narozsgldecfvyp5hagj4uzivtusk57jm276oa6o52uu@jpeg',\n",
      "                                'py_type': 'app.bsky.embed.images#viewImage',\n",
      "                                'thumb': 'https://cdn.bsky.app/img/feed_thumbnail/plain/did:plc:qx6n5pvmijprrz3pcmxyvhuk/bafkreiageaafh6narozsgldecfvyp5hagj4uzivtusk57jm276oa6o52uu@jpeg'}],\n",
      "                    'py_type': 'app.bsky.embed.images#view'},\n",
      "          'indexed_at': '2025-04-28T06:16:10.883Z',\n",
      "          'labels': [],\n",
      "          'like_count': 6,\n",
      "          'py_type': 'app.bsky.feed.defs#postView',\n",
      "          'quote_count': 0,\n",
      "          'record': {'created_at': '2025-04-28T06:16:00.098Z',\n",
      "                     'embed': {'images': [{'alt': '',\n",
      "                                           'aspect_ratio': {'height': 2000,\n",
      "                                                            'py_type': 'app.bsky.embed.defs#aspectRatio',\n",
      "                                                            'width': 1500},\n",
      "                                           'image': {'mime_type': 'image/jpeg',\n",
      "                                                     'py_type': 'blob',\n",
      "                                                     'ref': {'link': 'bafkreidsr2hpgtcbjfqaq3ygnqfitqlrbnz2n2d6tnr57s2vgk3ltokcme'},\n",
      "                                                     'size': 825605},\n",
      "                                           'py_type': 'app.bsky.embed.images#image'},\n",
      "                                          {'alt': '',\n",
      "                                           'aspect_ratio': {'height': 2000,\n",
      "                                                            'py_type': 'app.bsky.embed.defs#aspectRatio',\n",
      "                                                            'width': 1500},\n",
      "                                           'image': {'mime_type': 'image/jpeg',\n",
      "                                                     'py_type': 'blob',\n",
      "                                                     'ref': {'link': 'bafkreiageaafh6narozsgldecfvyp5hagj4uzivtusk57jm276oa6o52uu'},\n",
      "                                                     'size': 867780},\n",
      "                                           'py_type': 'app.bsky.embed.images#image'}],\n",
      "                               'py_type': 'app.bsky.embed.images'},\n",
      "                     'entities': None,\n",
      "                     'facets': [{'features': [{'py_type': 'app.bsky.richtext.facet#tag',\n",
      "                                               'tag': 'CHI2025'}],\n",
      "                                 'index': {'byte_end': 57,\n",
      "                                           'byte_start': 49,\n",
      "                                           'py_type': 'app.bsky.richtext.facet#byteSlice'},\n",
      "                                 'py_type': 'app.bsky.richtext.facet'}],\n",
      "                     'labels': None,\n",
      "                     'langs': ['ga'],\n",
      "                     'py_type': 'app.bsky.feed.post',\n",
      "                     'reply': None,\n",
      "                     'tags': None,\n",
      "                     'text': 'this one gets my personal ‘best title’ award '\n",
      "                             '#CHI2025'},\n",
      "          'reply_count': 0,\n",
      "          'repost_count': 2,\n",
      "          'threadgate': None,\n",
      "          'uri': 'at://did:plc:qx6n5pvmijprrz3pcmxyvhuk/app.bsky.feed.post/3lnu4j4qlek22',\n",
      "          'viewer': {'embedding_disabled': False,\n",
      "                     'like': None,\n",
      "                     'pinned': None,\n",
      "                     'py_type': 'app.bsky.feed.defs#viewerState',\n",
      "                     'reply_disabled': None,\n",
      "                     'repost': None,\n",
      "                     'thread_muted': False}},\n",
      " 'py_type': 'app.bsky.feed.defs#feedViewPost',\n",
      " 'reason': None,\n",
      " 'reply': None}\n"
     ]
    }
   ],
   "source": [
    "from pprint import pprint\n",
    "\n",
    "pprint(feed[0].model_dump())"
   ]
  },
  {
   "cell_type": "code",
   "execution_count": 1,
   "metadata": {},
   "outputs": [],
   "source": [
    "import asyncio\n",
    "import websockets"
   ]
  },
  {
   "cell_type": "code",
   "execution_count": 12,
   "metadata": {},
   "outputs": [
    {
     "ename": "KeyboardInterrupt",
     "evalue": "",
     "output_type": "error",
     "traceback": [
      "\u001b[31m---------------------------------------------------------------------------\u001b[39m",
      "\u001b[31mKeyboardInterrupt\u001b[39m                         Traceback (most recent call last)",
      "\u001b[36mCell\u001b[39m\u001b[36m \u001b[39m\u001b[32mIn[12]\u001b[39m\u001b[32m, line 25\u001b[39m\n\u001b[32m     21\u001b[39m                 \u001b[38;5;28;01mif\u001b[39;00m \u001b[33m'\u001b[39m\u001b[33mcoffee\u001b[39m\u001b[33m'\u001b[39m \u001b[38;5;129;01min\u001b[39;00m text:\n\u001b[32m     22\u001b[39m                     \u001b[38;5;28mprint\u001b[39m(text)\n\u001b[32m---> \u001b[39m\u001b[32m25\u001b[39m \u001b[43mclient\u001b[49m\u001b[43m.\u001b[49m\u001b[43mstart\u001b[49m\u001b[43m(\u001b[49m\u001b[43mon_message_handler\u001b[49m\u001b[43m)\u001b[49m\n",
      "\u001b[36mFile \u001b[39m\u001b[32m~/gits/MultimodalTaxonomy/.venv/lib/python3.13/site-packages/atproto_firehose/client.py:187\u001b[39m, in \u001b[36m_WebsocketClient.start\u001b[39m\u001b[34m(self, on_message_callback, on_callback_error_callback)\u001b[39m\n\u001b[32m    185\u001b[39m \u001b[38;5;28;01mtry\u001b[39;00m:\n\u001b[32m    186\u001b[39m     \u001b[38;5;28;01mif\u001b[39;00m \u001b[38;5;28mself\u001b[39m._reconnect_no != \u001b[32m0\u001b[39m:\n\u001b[32m--> \u001b[39m\u001b[32m187\u001b[39m         \u001b[43mtime\u001b[49m\u001b[43m.\u001b[49m\u001b[43msleep\u001b[49m\u001b[43m(\u001b[49m\u001b[38;5;28;43mself\u001b[39;49m\u001b[43m.\u001b[49m\u001b[43m_get_reconnection_delay\u001b[49m\u001b[43m(\u001b[49m\u001b[43m)\u001b[49m\u001b[43m)\u001b[49m\n\u001b[32m    189\u001b[39m     \u001b[38;5;28;01mwith\u001b[39;00m \u001b[38;5;28mself\u001b[39m._get_client() \u001b[38;5;28;01mas\u001b[39;00m client:\n\u001b[32m    190\u001b[39m         \u001b[38;5;28mself\u001b[39m._reconnect_no = \u001b[32m0\u001b[39m\n",
      "\u001b[31mKeyboardInterrupt\u001b[39m: "
     ]
    }
   ],
   "source": [
    "from atproto import FirehoseSubscribeReposClient, parse_subscribe_repos_message, models, CAR\n",
    "\n",
    "client = FirehoseSubscribeReposClient()\n",
    "\n",
    "def on_message_handler(message):\n",
    "    commit = parse_subscribe_repos_message(message)\n",
    "    if not isinstance(commit, models.ComAtprotoSyncSubscribeRepos.Commit):\n",
    "        return\n",
    "    \n",
    "    if not commit.blocks:\n",
    "        return\n",
    "    \n",
    "    car = CAR.from_bytes(commit.blocks)\n",
    "    for op in commit.ops:\n",
    "        if op.action in [\"create\"] and op.cid:\n",
    "            data = car.blocks.get(op.cid)\n",
    "\n",
    "            if data['$type'] == 'app.bsky.feed.post':\n",
    "                text = data['text']\n",
    "\n",
    "                if 'coffee' in text:\n",
    "                    print(text)\n",
    "\n",
    "\n",
    "client.start(on_message_handler)"
   ]
  },
  {
   "cell_type": "code",
   "execution_count": 9,
   "metadata": {},
   "outputs": [
    {
     "ename": "NameError",
     "evalue": "name 'data' is not defined",
     "output_type": "error",
     "traceback": [
      "\u001b[31m---------------------------------------------------------------------------\u001b[39m",
      "\u001b[31mNameError\u001b[39m                                 Traceback (most recent call last)",
      "\u001b[36mCell\u001b[39m\u001b[36m \u001b[39m\u001b[32mIn[9]\u001b[39m\u001b[32m, line 1\u001b[39m\n\u001b[32m----> \u001b[39m\u001b[32m1\u001b[39m \u001b[43mdata\u001b[49m\n",
      "\u001b[31mNameError\u001b[39m: name 'data' is not defined"
     ]
    }
   ],
   "source": [
    "data"
   ]
  }
 ],
 "metadata": {
  "kernelspec": {
   "display_name": "multimodaltaxonomy",
   "language": "python",
   "name": "python3"
  },
  "language_info": {
   "codemirror_mode": {
    "name": "ipython",
    "version": 3
   },
   "file_extension": ".py",
   "mimetype": "text/x-python",
   "name": "python",
   "nbconvert_exporter": "python",
   "pygments_lexer": "ipython3",
   "version": "3.13.6"
  }
 },
 "nbformat": 4,
 "nbformat_minor": 2
}
